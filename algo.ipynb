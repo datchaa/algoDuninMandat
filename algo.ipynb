{
 "cells": [
  {
   "cell_type": "code",
   "execution_count": 245,
   "id": "17773f8e",
   "metadata": {},
   "outputs": [],
   "source": [
    "library(xml2)"
   ]
  },
  {
   "cell_type": "code",
   "execution_count": 246,
   "id": "502212b4",
   "metadata": {},
   "outputs": [],
   "source": [
    "ComXmlFile  = read_xml(\"data/com.xml\")\n",
    "ContratXmlFile = read_xml(\"data/contract.xml\")\n",
    "EngiXmlFile = read_xml(\"data/engi.xml\")"
   ]
  },
  {
   "cell_type": "code",
   "execution_count": 247,
   "id": "13ae9d84",
   "metadata": {},
   "outputs": [],
   "source": [
    "# Chargement des bibliothèques nécessaires\n",
    "library(xml2)     # Pour lire et manipuler des fichiers XML\n",
    "library(dplyr)    # Pour manipuler des tableaux de données (tibbles)\n",
    "library(purrr)    # Pour la fonctions de programmation fonctionnelle  (walk)\n",
    "library(stringr)  # Pour manipuler les chaînes de caractères\n",
    "\n",
    "# Fonction principale : transforme un document XML en une liste de tables par classe\n",
    "xmlToTables <- function(doc){\n",
    "  root <- xml_root(doc)  # Accède à la racine du document XML\n",
    "  tables <- list()       # Initialise une liste vide pour stocker les tables\n",
    "\n",
    "  # Fonction récursive interne pour analyser chaque objet XML\n",
    "  parse_obj <- function(node){\n",
    "    clas <- xml_attr(node, \"clas\")       # Récupère l’attribut \"clas\" (classe de l'objet)\n",
    "    if (is.na(clas)) return()            # Ignore les nœuds sans classe\n",
    "\n",
    "    # 1) Extraction des propriétés simples (texte uniquement, sans nœuds enfants)\n",
    "    props <- xml_find_all(node, \"./prop[not(*) and not(.//obj)]\")\n",
    "    row <- set_names(\n",
    "      xml_text(props) %>% trimws(),                     # Valeurs texte nettoyées\n",
    "      xml_attr(props, \"nom\") %>% str_remove(\"^\\\\$\")     # Noms de colonnes, sans \"$\"\n",
    "    )\n",
    "\n",
    "    # Ajoute la ligne à la table correspondant à cette classe\n",
    "    if (is.null(tables[[clas]])) tables[[clas]] <- tibble()\n",
    "    tables[[clas]] <<- bind_rows(tables[[clas]], as_tibble_row(row))\n",
    "\n",
    "    # Recherche des objets enfants dans <prop> ou <entr>\n",
    "    children <- c(\n",
    "      xml_find_all(node, \"./prop//obj\"),\n",
    "      xml_find_all(node, \"./prop//entr/obj\")\n",
    "    )\n",
    "\n",
    "    # Appel récursif sur chaque enfant\n",
    "    walk(children, parse_obj)\n",
    "  }\n",
    "\n",
    "  # Démarre l’analyse en profondeur sur tous les <obj> du document\n",
    "  xml_find_all(root, \".//obj\") %>% walk(parse_obj)\n",
    "\n",
    "  # Nettoyage des noms de colonnes : suppression des caractères spéciaux\n",
    "  tables <- map(tables, ~rename_with(., ~str_replace_all(.x, \"[^[:alnum:]_]\", \"\")))\n",
    "\n",
    "  tables  # Retourne la liste des tables par classe\n",
    "}\n"
   ]
  },
  {
   "cell_type": "code",
   "execution_count": 248,
   "id": "1da97d4a",
   "metadata": {},
   "outputs": [],
   "source": [
    "com_df  = xmlToTables(ComXmlFile)"
   ]
  },
  {
   "cell_type": "code",
   "execution_count": 249,
   "id": "a65ff31e",
   "metadata": {},
   "outputs": [
    {
     "data": {
      "text/plain": [
       "$Comm\n",
       "\u001b[38;5;246m# A tibble: 1 × 98\u001b[39m\n",
       "  aNote documSource estCQ estCQSup estImport estReprise dateAcompte1Emis fgfExclu installExclu matExclu\n",
       "  \u001b[3m\u001b[38;5;246m<chr>\u001b[39m\u001b[23m \u001b[3m\u001b[38;5;246m<chr>\u001b[39m\u001b[23m       \u001b[3m\u001b[38;5;246m<chr>\u001b[39m\u001b[23m \u001b[3m\u001b[38;5;246m<chr>\u001b[39m\u001b[23m    \u001b[3m\u001b[38;5;246m<chr>\u001b[39m\u001b[23m     \u001b[3m\u001b[38;5;246m<chr>\u001b[39m\u001b[23m      \u001b[3m\u001b[38;5;246m<chr>\u001b[39m\u001b[23m            \u001b[3m\u001b[38;5;246m<chr>\u001b[39m\u001b[23m    \u001b[3m\u001b[38;5;246m<chr>\u001b[39m\u001b[23m        \u001b[3m\u001b[38;5;246m<chr>\u001b[39m\u001b[23m   \n",
       "\u001b[38;5;250m1\u001b[39m false false       false false    false     false      2023/08/30       false    false        false   \n",
       "\u001b[38;5;246m# ℹ 88 more variables: moExclu <chr>, pourcAcompte1 <chr>, pourcAcompte2 <chr>, solde <chr>,\u001b[39m\n",
       "\u001b[38;5;246m#   transportExclu <chr>, appNotifObligs <chr>, appNotifs <chr>, codeClient2 <chr>,\u001b[39m\n",
       "\u001b[38;5;246m#   dateValidite <chr>, delaiPrevExped <chr>, disclaimers <chr>, emplacementCre <chr>, enErreur <chr>,\u001b[39m\n",
       "\u001b[38;5;246m#   enPSD <chr>, identCour <chr>, nbJourValide <chr>, nomClient <chr>, projet <chr>, promotions <chr>,\u001b[39m\n",
       "\u001b[38;5;246m#   qteItems <chr>, qteItemsCab <chr>, roleProprietaire <chr>, sorte <chr>, statutCJobsite <chr>,\u001b[39m\n",
       "\u001b[38;5;246m#   statutCred <chr>, type <chr>, typeProcess <chr>, validCred <chr>, ligne <chr>,\u001b[39m\n",
       "\u001b[38;5;246m#   avertLivraison <chr>, cleEnMain <chr>, codePost <chr>, installation <chr>, typeClient <chr>, …\u001b[39m\n",
       "\n",
       "$Etape\n",
       "\u001b[38;5;246m# A tibble: 3 × 5\u001b[39m\n",
       "  createur  dateCreation emplacement   statut tempsCreation   \n",
       "  \u001b[3m\u001b[38;5;246m<chr>\u001b[39m\u001b[23m     \u001b[3m\u001b[38;5;246m<chr>\u001b[39m\u001b[23m        \u001b[3m\u001b[38;5;246m<chr>\u001b[39m\u001b[23m         \u001b[3m\u001b[38;5;246m<chr>\u001b[39m\u001b[23m  \u001b[3m\u001b[38;5;246m<chr>\u001b[39m\u001b[23m           \n",
       "\u001b[38;5;250m1\u001b[39m dunintech 2023/08/30   Manufacturier Saisie 2023/08/30 10:48\n",
       "\u001b[38;5;250m2\u001b[39m dunintech 2023/08/30   Manufacturier Saisie 2023/08/30 10:48\n",
       "\u001b[38;5;250m3\u001b[39m dunintech 2023/08/30   Manufacturier Saisie 2023/08/30 10:48\n",
       "\n",
       "$SommaireKit\n",
       "\u001b[38;5;246m# A tibble: 12 × 6\u001b[39m\n",
       "   code     no    ligne  pourcEsc pourcEscSup sousTotal\n",
       "   \u001b[3m\u001b[38;5;246m<chr>\u001b[39m\u001b[23m    \u001b[3m\u001b[38;5;246m<chr>\u001b[39m\u001b[23m \u001b[3m\u001b[38;5;246m<chr>\u001b[39m\u001b[23m  \u001b[3m\u001b[38;5;246m<chr>\u001b[39m\u001b[23m    \u001b[3m\u001b[38;5;246m<chr>\u001b[39m\u001b[23m       \u001b[3m\u001b[38;5;246m<chr>\u001b[39m\u001b[23m    \n",
       "\u001b[38;5;250m 1\u001b[39m k01      1     Custom 0        0           346.43   \n",
       "\u001b[38;5;250m 2\u001b[39m Contour  \u001b[31mNA\u001b[39m    \u001b[31mNA\u001b[39m     0        0           0        \n",
       "\u001b[38;5;250m 3\u001b[39m Plancher \u001b[31mNA\u001b[39m    \u001b[31mNA\u001b[39m     0        0           0        \n",
       "\u001b[38;5;250m 4\u001b[39m Plafond  \u001b[31mNA\u001b[39m    \u001b[31mNA\u001b[39m     0        0           0        \n",
       "\u001b[38;5;250m 5\u001b[39m k01      1     Custom 0        0           346.43   \n",
       "\u001b[38;5;250m 6\u001b[39m Contour  \u001b[31mNA\u001b[39m    \u001b[31mNA\u001b[39m     0        0           0        \n",
       "\u001b[38;5;250m 7\u001b[39m Plancher \u001b[31mNA\u001b[39m    \u001b[31mNA\u001b[39m     0        0           0        \n",
       "\u001b[38;5;250m 8\u001b[39m Plafond  \u001b[31mNA\u001b[39m    \u001b[31mNA\u001b[39m     0        0           0        \n",
       "\u001b[38;5;250m 9\u001b[39m k01      1     Custom 0        0           346.43   \n",
       "\u001b[38;5;250m10\u001b[39m Contour  \u001b[31mNA\u001b[39m    \u001b[31mNA\u001b[39m     0        0           0        \n",
       "\u001b[38;5;250m11\u001b[39m Plancher \u001b[31mNA\u001b[39m    \u001b[31mNA\u001b[39m     0        0           0        \n",
       "\u001b[38;5;250m12\u001b[39m Plafond  \u001b[31mNA\u001b[39m    \u001b[31mNA\u001b[39m     0        0           0        \n"
      ]
     },
     "execution_count": null,
     "metadata": {},
     "output_type": "execute_result"
    }
   ],
   "source": [
    "com_df"
   ]
  },
  {
   "cell_type": "code",
   "execution_count": 250,
   "id": "25f2c092",
   "metadata": {},
   "outputs": [
    {
     "data": {
      "text/plain": [
       "$Contrat\n",
       "\u001b[38;5;246m# A tibble: 1 × 86\u001b[39m\n",
       "  codeClient2 dateValidite delaiPrevExped emplacementCre identCour nbJourValide nomClient projet  \n",
       "  \u001b[3m\u001b[38;5;246m<chr>\u001b[39m\u001b[23m       \u001b[3m\u001b[38;5;246m<chr>\u001b[39m\u001b[23m        \u001b[3m\u001b[38;5;246m<chr>\u001b[39m\u001b[23m          \u001b[3m\u001b[38;5;246m<chr>\u001b[39m\u001b[23m          \u001b[3m\u001b[38;5;246m<chr>\u001b[39m\u001b[23m     \u001b[3m\u001b[38;5;246m<chr>\u001b[39m\u001b[23m        \u001b[3m\u001b[38;5;246m<chr>\u001b[39m\u001b[23m     \u001b[3m\u001b[38;5;246m<chr>\u001b[39m\u001b[23m   \n",
       "\u001b[38;5;250m1\u001b[39m ALaplante   2025/03/10   2              Interne        0         60           ALaplante P-001666\n",
       "\u001b[38;5;246m# ℹ 78 more variables: promotions <chr>, qteItems <chr>, qteItemsCab <chr>, roleProprietaire <chr>,\u001b[39m\n",
       "\u001b[38;5;246m#   sorte <chr>, type <chr>, typeClient <chr>, typeProcess <chr>, validCred <chr>, ligne <chr>,\u001b[39m\n",
       "\u001b[38;5;246m#   cleEnMain <chr>, installateur <chr>, installation <chr>, priseMesure <chr>, assemblage <chr>,\u001b[39m\n",
       "\u001b[38;5;246m#   edgeColle <chr>, gamme <chr>, cleItem <chr>, createurCourriel <chr>, createurNom <chr>,\u001b[39m\n",
       "\u001b[38;5;246m#   dateCreation <chr>, division <chr>, documCree <chr>, sauvegarde <chr>, code <chr>, codeTaxe <chr>,\u001b[39m\n",
       "\u001b[38;5;246m#   codeTaxe2 <chr>, pourcEsc <chr>, pourcEscSup <chr>, sousTotal <chr>, sousTotal2 <chr>,\u001b[39m\n",
       "\u001b[38;5;246m#   tauxTaxe <chr>, tauxTaxe2 <chr>, total <chr>, totalHT <chr>, totalTx1 <chr>, totalTx2 <chr>, …\u001b[39m\n",
       "\n",
       "$Disclaimer\n",
       "\u001b[38;5;246m# A tibble: 6 × 2\u001b[39m\n",
       "  condition terme          \n",
       "  \u001b[3m\u001b[38;5;246m<chr>\u001b[39m\u001b[23m     \u001b[3m\u001b[38;5;246m<chr>\u001b[39m\u001b[23m          \n",
       "\u001b[38;5;250m1\u001b[39m \u001b[38;5;246m\"\u001b[39m\u001b[38;5;246m\"\u001b[39m        PriseMesure_100\n",
       "\u001b[38;5;250m2\u001b[39m \u001b[38;5;246m\"\u001b[39m\u001b[38;5;246m\"\u001b[39m        Electro_90     \n",
       "\u001b[38;5;250m3\u001b[39m \u001b[38;5;246m\"\u001b[39m\u001b[38;5;246m\"\u001b[39m        PriseMesure_100\n",
       "\u001b[38;5;250m4\u001b[39m \u001b[38;5;246m\"\u001b[39m\u001b[38;5;246m\"\u001b[39m        Electro_90     \n",
       "\u001b[38;5;250m5\u001b[39m \u001b[38;5;246m\"\u001b[39m\u001b[38;5;246m\"\u001b[39m        PriseMesure_100\n",
       "\u001b[38;5;250m6\u001b[39m \u001b[38;5;246m\"\u001b[39m\u001b[38;5;246m\"\u001b[39m        Electro_90     \n",
       "\n",
       "$Etape\n",
       "\u001b[38;5;246m# A tibble: 3 × 5\u001b[39m\n",
       "  createur  dateCreation emplacement   statut tempsCreation   \n",
       "  \u001b[3m\u001b[38;5;246m<chr>\u001b[39m\u001b[23m     \u001b[3m\u001b[38;5;246m<chr>\u001b[39m\u001b[23m        \u001b[3m\u001b[38;5;246m<chr>\u001b[39m\u001b[23m         \u001b[3m\u001b[38;5;246m<chr>\u001b[39m\u001b[23m  \u001b[3m\u001b[38;5;246m<chr>\u001b[39m\u001b[23m           \n",
       "\u001b[38;5;250m1\u001b[39m alaplante 2025/01/09   Manufacturier Saisie 2025/01/09 16:23\n",
       "\u001b[38;5;250m2\u001b[39m alaplante 2025/01/09   Manufacturier Saisie 2025/01/09 16:23\n",
       "\u001b[38;5;250m3\u001b[39m alaplante 2025/01/09   Manufacturier Saisie 2025/01/09 16:23\n",
       "\n",
       "$SommaireKit\n",
       "\u001b[38;5;246m# A tibble: 6 × 6\u001b[39m\n",
       "  code  no    ligne  pourcEsc pourcEscSup sousTotal\n",
       "  \u001b[3m\u001b[38;5;246m<chr>\u001b[39m\u001b[23m \u001b[3m\u001b[38;5;246m<chr>\u001b[39m\u001b[23m \u001b[3m\u001b[38;5;246m<chr>\u001b[39m\u001b[23m  \u001b[3m\u001b[38;5;246m<chr>\u001b[39m\u001b[23m    \u001b[3m\u001b[38;5;246m<chr>\u001b[39m\u001b[23m       \u001b[3m\u001b[38;5;246m<chr>\u001b[39m\u001b[23m    \n",
       "\u001b[38;5;250m1\u001b[39m k01   1     Custom 0        0           8885.54  \n",
       "\u001b[38;5;250m2\u001b[39m k02   2     Custom 0        0           4085.66  \n",
       "\u001b[38;5;250m3\u001b[39m k01   1     Custom 0        0           8885.54  \n",
       "\u001b[38;5;250m4\u001b[39m k02   2     Custom 0        0           4085.66  \n",
       "\u001b[38;5;250m5\u001b[39m k01   1     Custom 0        0           8885.54  \n",
       "\u001b[38;5;250m6\u001b[39m k02   2     Custom 0        0           4085.66  \n",
       "\n",
       "$Lumiere\n",
       "\u001b[38;5;246m# A tibble: 6 × 2\u001b[39m\n",
       "  modele       qte  \n",
       "  \u001b[3m\u001b[38;5;246m<chr>\u001b[39m\u001b[23m        \u001b[3m\u001b[38;5;246m<chr>\u001b[39m\u001b[23m\n",
       "\u001b[38;5;250m1\u001b[39m PUCK120mm_NI 2    \n",
       "\u001b[38;5;250m2\u001b[39m PUCK79mm_NI  5    \n",
       "\u001b[38;5;250m3\u001b[39m PUCK120mm_NI 2    \n",
       "\u001b[38;5;250m4\u001b[39m PUCK79mm_NI  5    \n",
       "\u001b[38;5;250m5\u001b[39m PUCK120mm_NI 2    \n",
       "\u001b[38;5;250m6\u001b[39m PUCK79mm_NI  5    \n"
      ]
     },
     "execution_count": null,
     "metadata": {},
     "output_type": "execute_result"
    }
   ],
   "source": [
    "contrat_df = xmlToTables(ContratXmlFile)\n",
    "contrat_df"
   ]
  },
  {
   "cell_type": "code",
   "execution_count": 251,
   "id": "154e6594",
   "metadata": {},
   "outputs": [
    {
     "data": {
      "text/plain": [
       "\u001b[38;5;246m# A tibble: 6 × 2\u001b[39m\n",
       "  condition terme          \n",
       "  \u001b[3m\u001b[38;5;246m<chr>\u001b[39m\u001b[23m     \u001b[3m\u001b[38;5;246m<chr>\u001b[39m\u001b[23m          \n",
       "\u001b[38;5;250m1\u001b[39m \u001b[38;5;246m\"\u001b[39m\u001b[38;5;246m\"\u001b[39m        PriseMesure_100\n",
       "\u001b[38;5;250m2\u001b[39m \u001b[38;5;246m\"\u001b[39m\u001b[38;5;246m\"\u001b[39m        Electro_90     \n",
       "\u001b[38;5;250m3\u001b[39m \u001b[38;5;246m\"\u001b[39m\u001b[38;5;246m\"\u001b[39m        PriseMesure_100\n",
       "\u001b[38;5;250m4\u001b[39m \u001b[38;5;246m\"\u001b[39m\u001b[38;5;246m\"\u001b[39m        Electro_90     \n",
       "\u001b[38;5;250m5\u001b[39m \u001b[38;5;246m\"\u001b[39m\u001b[38;5;246m\"\u001b[39m        PriseMesure_100\n",
       "\u001b[38;5;250m6\u001b[39m \u001b[38;5;246m\"\u001b[39m\u001b[38;5;246m\"\u001b[39m        Electro_90     "
      ]
     },
     "execution_count": null,
     "metadata": {},
     "output_type": "execute_result"
    }
   ],
   "source": [
    "contrat_df$Disclaimer"
   ]
  },
  {
   "cell_type": "code",
   "execution_count": 252,
   "id": "743eda85",
   "metadata": {},
   "outputs": [],
   "source": [
    "\n",
    "conn = DBI::dbConnect(odbc::odbc(), .connection_string = \"Driver={ODBC Driver 17 for SQL Server};\", \n",
    "            Server = \"server-sql-dunin-eve.database.windows.net\", Database = \"AviviaEve_Copy\", \n",
    "            UID = \"accesAviviaData\", PWD = \"Citric&Private&Designed&Maturity1&Cloning\")\n",
    "\n",
    "\n"
   ]
  },
  {
   "cell_type": "code",
   "execution_count": 253,
   "id": "11185e76",
   "metadata": {},
   "outputs": [],
   "source": [
    "projets = tbl(conn,'projetEW') "
   ]
  },
  {
   "cell_type": "code",
   "execution_count": 254,
   "id": "96827563",
   "metadata": {},
   "outputs": [
    {
     "data": {
      "text/plain": [
       "[1] \"Code\"         \"Client\"       \"Createur\"     \"ProjetXML\"    \"Archive\"      \"DateCreation\"\n",
       "[7] \"Libre\"       "
      ]
     },
     "execution_count": null,
     "metadata": {},
     "output_type": "execute_result"
    }
   ],
   "source": [
    "projets %>% colnames()"
   ]
  },
  {
   "cell_type": "code",
   "execution_count": 255,
   "id": "971869af",
   "metadata": {},
   "outputs": [],
   "source": [
    "projet_df = projets %>% head(1) %>% pull(ProjetXML) %>% as_xml_document() %>% xmlToTables()"
   ]
  },
  {
   "cell_type": "code",
   "execution_count": 256,
   "id": "0df01774",
   "metadata": {},
   "outputs": [
    {
     "data": {
      "text/plain": [
       "$Projet\n",
       "\u001b[38;5;246m# A tibble: 1 × 22\u001b[39m\n",
       "  aDocuments client codeRepresentant codeRepresentant2 coordsFactTxt    enFusion estReprise libre sorte\n",
       "  \u001b[3m\u001b[38;5;246m<chr>\u001b[39m\u001b[23m      \u001b[3m\u001b[38;5;246m<chr>\u001b[39m\u001b[23m  \u001b[3m\u001b[38;5;246m<chr>\u001b[39m\u001b[23m            \u001b[3m\u001b[38;5;246m<chr>\u001b[39m\u001b[23m             \u001b[3m\u001b[38;5;246m<chr>\u001b[39m\u001b[23m            \u001b[3m\u001b[38;5;246m<chr>\u001b[39m\u001b[23m    \u001b[3m\u001b[38;5;246m<chr>\u001b[39m\u001b[23m      \u001b[3m\u001b[38;5;246m<chr>\u001b[39m\u001b[23m \u001b[3m\u001b[38;5;246m<chr>\u001b[39m\u001b[23m\n",
       "\u001b[38;5;250m1\u001b[39m true       Avivia 003              004               \u001b[38;5;246m\"\u001b[39m20 Route Goule… true     false      0     Proj…\n",
       "\u001b[38;5;246m# ℹ 13 more variables: ciClient <chr>, coordsExpedTxt <chr>, courrielContact <chr>,\u001b[39m\n",
       "\u001b[38;5;246m#   dateCreation <chr>, division <chr>, memeCoordsJSCF <chr>, nomContact <chr>, nomRepresentant <chr>,\u001b[39m\n",
       "\u001b[38;5;246m#   nomRepresentant2 <chr>, posteContact <chr>, sauvegarde <chr>, statutJobsite <chr>, code <chr>\u001b[39m\n",
       "\n",
       "$Client\n",
       "\u001b[38;5;246m# A tibble: 2 × 4\u001b[39m\n",
       "  langue monnaie code   nom   \n",
       "  \u001b[3m\u001b[38;5;246m<chr>\u001b[39m\u001b[23m  \u001b[3m\u001b[38;5;246m<chr>\u001b[39m\u001b[23m   \u001b[3m\u001b[38;5;246m<chr>\u001b[39m\u001b[23m  \u001b[3m\u001b[38;5;246m<chr>\u001b[39m\u001b[23m \n",
       "\u001b[38;5;250m1\u001b[39m fr     CAN     Avivia Avivia\n",
       "\u001b[38;5;250m2\u001b[39m fr     CAN     Avivia Avivia\n",
       "\n",
       "$AdrCivique\n",
       "\u001b[38;5;246m# A tibble: 6 × 9\u001b[39m\n",
       "  codePost etatProv ligne1          pays   region ville                        usage code     sorte    \n",
       "  \u001b[3m\u001b[38;5;246m<chr>\u001b[39m\u001b[23m    \u001b[3m\u001b[38;5;246m<chr>\u001b[39m\u001b[23m    \u001b[3m\u001b[38;5;246m<chr>\u001b[39m\u001b[23m           \u001b[3m\u001b[38;5;246m<chr>\u001b[39m\u001b[23m  \u001b[3m\u001b[38;5;246m<chr>\u001b[39m\u001b[23m  \u001b[3m\u001b[38;5;246m<chr>\u001b[39m\u001b[23m                        \u001b[3m\u001b[38;5;246m<chr>\u001b[39m\u001b[23m \u001b[3m\u001b[38;5;246m<chr>\u001b[39m\u001b[23m    \u001b[3m\u001b[38;5;246m<chr>\u001b[39m\u001b[23m    \n",
       "\u001b[38;5;250m1\u001b[39m G0X2B0   Quebec   20 Route Goulet Canada R1     Saint-Séverin-de-Proulxville Fact  Fact     \u001b[31mNA\u001b[39m       \n",
       "\u001b[38;5;250m2\u001b[39m G0A1L0   Quebec   110, route 138  Canada R1     Cap-Santé                    Exped ShowRoom WAREHOUSE\n",
       "\u001b[38;5;250m3\u001b[39m G0X2B0   Quebec   20 Route Goulet Canada R1     Saint-Séverin-de-Proulxville Fact  Fact     \u001b[31mNA\u001b[39m       \n",
       "\u001b[38;5;250m4\u001b[39m G0A1L0   Quebec   110, route 138  Canada R1     Cap-Santé                    Exped ShowRoom WAREHOUSE\n",
       "\u001b[38;5;250m5\u001b[39m G0X2B0   Quebec   20 Route Goulet Canada R1     Saint-Séverin-de-Proulxville Fact  Fact     \u001b[31mNA\u001b[39m       \n",
       "\u001b[38;5;250m6\u001b[39m G0A1L0   Quebec   110, route 138  Canada R1     Cap-Santé                    Exped ShowRoom WAREHOUSE\n",
       "\n",
       "$Marche\n",
       "\u001b[38;5;246m# A tibble: 2 × 1\u001b[39m\n",
       "  code  \n",
       "  \u001b[3m\u001b[38;5;246m<chr>\u001b[39m\u001b[23m \n",
       "\u001b[38;5;250m1\u001b[39m Quebec\n",
       "\u001b[38;5;250m2\u001b[39m Quebec\n"
      ]
     },
     "execution_count": null,
     "metadata": {},
     "output_type": "execute_result"
    }
   ],
   "source": [
    "projet_df"
   ]
  },
  {
   "cell_type": "code",
   "execution_count": 258,
   "id": "482a233d",
   "metadata": {},
   "outputs": [
    {
     "data": {
      "text/plain": [
       "\u001b[38;5;246m# A tibble: 1 × 22\u001b[39m\n",
       "  aDocuments client codeRepresentant codeRepresentant2 coordsFactTxt    enFusion estReprise libre sorte\n",
       "  \u001b[3m\u001b[38;5;246m<chr>\u001b[39m\u001b[23m      \u001b[3m\u001b[38;5;246m<chr>\u001b[39m\u001b[23m  \u001b[3m\u001b[38;5;246m<chr>\u001b[39m\u001b[23m            \u001b[3m\u001b[38;5;246m<chr>\u001b[39m\u001b[23m             \u001b[3m\u001b[38;5;246m<chr>\u001b[39m\u001b[23m            \u001b[3m\u001b[38;5;246m<chr>\u001b[39m\u001b[23m    \u001b[3m\u001b[38;5;246m<chr>\u001b[39m\u001b[23m      \u001b[3m\u001b[38;5;246m<chr>\u001b[39m\u001b[23m \u001b[3m\u001b[38;5;246m<chr>\u001b[39m\u001b[23m\n",
       "\u001b[38;5;250m1\u001b[39m true       Avivia 003              004               \u001b[38;5;246m\"\u001b[39m20 Route Goule… true     false      0     Proj…\n",
       "\u001b[38;5;246m# ℹ 13 more variables: ciClient <chr>, coordsExpedTxt <chr>, courrielContact <chr>,\u001b[39m\n",
       "\u001b[38;5;246m#   dateCreation <chr>, division <chr>, memeCoordsJSCF <chr>, nomContact <chr>, nomRepresentant <chr>,\u001b[39m\n",
       "\u001b[38;5;246m#   nomRepresentant2 <chr>, posteContact <chr>, sauvegarde <chr>, statutJobsite <chr>, code <chr>\u001b[39m"
      ]
     },
     "execution_count": null,
     "metadata": {},
     "output_type": "execute_result"
    }
   ],
   "source": [
    "projet_df$Projet"
   ]
  }
 ],
 "metadata": {
  "language_info": {
   "name": "r"
  }
 },
 "nbformat": 4,
 "nbformat_minor": 5
}
